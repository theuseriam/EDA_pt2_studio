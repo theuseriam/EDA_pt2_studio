{
 "cells": [
  {
   "cell_type": "markdown",
   "id": "2f470e67-1623-4416-b9c2-8367f7834a26",
   "metadata": {},
   "source": [
    "# EDA part 2 Studio\n",
    "\n",
    "## Further Analysis of IMDB movies\n",
    "\n",
    "In this studio, we're returning to this [tutorial](https://towardsdatascience.com/understand-the-data-with-univariate-and-multivariate-charts-and-plots-in-python-3b9fcd68cd8) as a reference guide for our EDA.\n",
    "You've seen the data set before and you've worked through similar kinds of questions with the heart disease dataset. \n",
    "\n",
    "Blocks have been created for your code and we've asked you to add more in some places.\n",
    "\n",
    "The dataset from [Kaggle](https://www.kaggle.com/PromptCloudHQ/imdb-data)"
   ]
  },
  {
   "cell_type": "markdown",
   "id": "34632281-1e15-44b1-a3e3-b82ddacb5cbd",
   "metadata": {},
   "source": [
    "### 1. Find the relative proportions of movie genres represented."
   ]
  },
  {
   "cell_type": "code",
   "execution_count": 121,
   "id": "070ebed9-c948-4821-9a24-67f0e3fe8fce",
   "metadata": {},
   "outputs": [
    {
     "data": {
      "text/html": [
       "<div>\n",
       "<style scoped>\n",
       "    .dataframe tbody tr th:only-of-type {\n",
       "        vertical-align: middle;\n",
       "    }\n",
       "\n",
       "    .dataframe tbody tr th {\n",
       "        vertical-align: top;\n",
       "    }\n",
       "\n",
       "    .dataframe thead th {\n",
       "        text-align: right;\n",
       "    }\n",
       "</style>\n",
       "<table border=\"1\" class=\"dataframe\">\n",
       "  <thead>\n",
       "    <tr style=\"text-align: right;\">\n",
       "      <th></th>\n",
       "      <th>Rank</th>\n",
       "      <th>Title</th>\n",
       "      <th>Genre</th>\n",
       "      <th>Description</th>\n",
       "      <th>Director</th>\n",
       "      <th>Actors</th>\n",
       "      <th>Year</th>\n",
       "      <th>Runtime (Minutes)</th>\n",
       "      <th>Rating</th>\n",
       "      <th>Votes</th>\n",
       "      <th>Revenue (Millions)</th>\n",
       "      <th>Metascore</th>\n",
       "    </tr>\n",
       "  </thead>\n",
       "  <tbody>\n",
       "    <tr>\n",
       "      <th>0</th>\n",
       "      <td>1</td>\n",
       "      <td>Guardians of the Galaxy</td>\n",
       "      <td>Action,Adventure,Sci-Fi</td>\n",
       "      <td>A group of intergalactic criminals are forced ...</td>\n",
       "      <td>James Gunn</td>\n",
       "      <td>Chris Pratt, Vin Diesel, Bradley Cooper, Zoe S...</td>\n",
       "      <td>2014</td>\n",
       "      <td>121</td>\n",
       "      <td>8.1</td>\n",
       "      <td>757074</td>\n",
       "      <td>333.13</td>\n",
       "      <td>76.0</td>\n",
       "    </tr>\n",
       "    <tr>\n",
       "      <th>1</th>\n",
       "      <td>2</td>\n",
       "      <td>Prometheus</td>\n",
       "      <td>Adventure,Mystery,Sci-Fi</td>\n",
       "      <td>Following clues to the origin of mankind, a te...</td>\n",
       "      <td>Ridley Scott</td>\n",
       "      <td>Noomi Rapace, Logan Marshall-Green, Michael Fa...</td>\n",
       "      <td>2012</td>\n",
       "      <td>124</td>\n",
       "      <td>7.0</td>\n",
       "      <td>485820</td>\n",
       "      <td>126.46</td>\n",
       "      <td>65.0</td>\n",
       "    </tr>\n",
       "    <tr>\n",
       "      <th>2</th>\n",
       "      <td>3</td>\n",
       "      <td>Split</td>\n",
       "      <td>Horror,Thriller</td>\n",
       "      <td>Three girls are kidnapped by a man with a diag...</td>\n",
       "      <td>M. Night Shyamalan</td>\n",
       "      <td>James McAvoy, Anya Taylor-Joy, Haley Lu Richar...</td>\n",
       "      <td>2016</td>\n",
       "      <td>117</td>\n",
       "      <td>7.3</td>\n",
       "      <td>157606</td>\n",
       "      <td>138.12</td>\n",
       "      <td>62.0</td>\n",
       "    </tr>\n",
       "    <tr>\n",
       "      <th>3</th>\n",
       "      <td>4</td>\n",
       "      <td>Sing</td>\n",
       "      <td>Animation,Comedy,Family</td>\n",
       "      <td>In a city of humanoid animals, a hustling thea...</td>\n",
       "      <td>Christophe Lourdelet</td>\n",
       "      <td>Matthew McConaughey,Reese Witherspoon, Seth Ma...</td>\n",
       "      <td>2016</td>\n",
       "      <td>108</td>\n",
       "      <td>7.2</td>\n",
       "      <td>60545</td>\n",
       "      <td>270.32</td>\n",
       "      <td>59.0</td>\n",
       "    </tr>\n",
       "    <tr>\n",
       "      <th>4</th>\n",
       "      <td>5</td>\n",
       "      <td>Suicide Squad</td>\n",
       "      <td>Action,Adventure,Fantasy</td>\n",
       "      <td>A secret government agency recruits some of th...</td>\n",
       "      <td>David Ayer</td>\n",
       "      <td>Will Smith, Jared Leto, Margot Robbie, Viola D...</td>\n",
       "      <td>2016</td>\n",
       "      <td>123</td>\n",
       "      <td>6.2</td>\n",
       "      <td>393727</td>\n",
       "      <td>325.02</td>\n",
       "      <td>40.0</td>\n",
       "    </tr>\n",
       "  </tbody>\n",
       "</table>\n",
       "</div>"
      ],
      "text/plain": [
       "   Rank                    Title                     Genre  \\\n",
       "0     1  Guardians of the Galaxy   Action,Adventure,Sci-Fi   \n",
       "1     2               Prometheus  Adventure,Mystery,Sci-Fi   \n",
       "2     3                    Split           Horror,Thriller   \n",
       "3     4                     Sing   Animation,Comedy,Family   \n",
       "4     5            Suicide Squad  Action,Adventure,Fantasy   \n",
       "\n",
       "                                         Description              Director  \\\n",
       "0  A group of intergalactic criminals are forced ...            James Gunn   \n",
       "1  Following clues to the origin of mankind, a te...          Ridley Scott   \n",
       "2  Three girls are kidnapped by a man with a diag...    M. Night Shyamalan   \n",
       "3  In a city of humanoid animals, a hustling thea...  Christophe Lourdelet   \n",
       "4  A secret government agency recruits some of th...            David Ayer   \n",
       "\n",
       "                                              Actors  Year  Runtime (Minutes)  \\\n",
       "0  Chris Pratt, Vin Diesel, Bradley Cooper, Zoe S...  2014                121   \n",
       "1  Noomi Rapace, Logan Marshall-Green, Michael Fa...  2012                124   \n",
       "2  James McAvoy, Anya Taylor-Joy, Haley Lu Richar...  2016                117   \n",
       "3  Matthew McConaughey,Reese Witherspoon, Seth Ma...  2016                108   \n",
       "4  Will Smith, Jared Leto, Margot Robbie, Viola D...  2016                123   \n",
       "\n",
       "   Rating   Votes  Revenue (Millions)  Metascore  \n",
       "0     8.1  757074              333.13       76.0  \n",
       "1     7.0  485820              126.46       65.0  \n",
       "2     7.3  157606              138.12       62.0  \n",
       "3     7.2   60545              270.32       59.0  \n",
       "4     6.2  393727              325.02       40.0  "
      ]
     },
     "execution_count": 121,
     "metadata": {},
     "output_type": "execute_result"
    }
   ],
   "source": [
    "# import dependencies \n",
    "import pandas as pd\n",
    "import matplotlib.pyplot as plt\n",
    "import seaborn as sns\n",
    "import numpy as np\n",
    "\n",
    "# create your data variabe using .read_csv \n",
    "data = pd.read_csv('IMDB-Movie-Data.csv')\n",
    "# get reaquainted with the data by viewing the first 5 rows\n",
    "data.head()"
   ]
  },
  {
   "cell_type": "code",
   "execution_count": 122,
   "id": "e8f7f6c5",
   "metadata": {},
   "outputs": [
    {
     "data": {
      "text/plain": [
       "Index(['Rank', 'Title', 'Genre', 'Description', 'Director', 'Actors', 'Year',\n",
       "       'Runtime (Minutes)', 'Rating', 'Votes', 'Revenue (Millions)',\n",
       "       'Metascore'],\n",
       "      dtype='object')"
      ]
     },
     "execution_count": 122,
     "metadata": {},
     "output_type": "execute_result"
    }
   ],
   "source": [
    "# list the column names\n",
    "data.columns"
   ]
  },
  {
   "cell_type": "code",
   "execution_count": 123,
   "id": "dfd297f7",
   "metadata": {},
   "outputs": [
    {
     "data": {
      "text/plain": [
       "0       Action,Adventure,Sci-Fi\n",
       "1      Adventure,Mystery,Sci-Fi\n",
       "2               Horror,Thriller\n",
       "3       Animation,Comedy,Family\n",
       "4      Action,Adventure,Fantasy\n",
       "                 ...           \n",
       "995         Crime,Drama,Mystery\n",
       "996                      Horror\n",
       "997         Drama,Music,Romance\n",
       "998            Adventure,Comedy\n",
       "999       Comedy,Family,Fantasy\n",
       "Name: Genre, Length: 1000, dtype: object"
      ]
     },
     "execution_count": 123,
     "metadata": {},
     "output_type": "execute_result"
    }
   ],
   "source": [
    "# preview the contents of the 'Genre' column only\n",
    "genre = data['Genre']\n",
    "genre\n"
   ]
  },
  {
   "cell_type": "code",
   "execution_count": 124,
   "id": "219a2ac1",
   "metadata": {},
   "outputs": [
    {
     "data": {
      "text/plain": [
       "Action,Adventure,Sci-Fi    50\n",
       "Drama                      48\n",
       "Comedy,Drama,Romance       35\n",
       "Comedy                     32\n",
       "Drama,Romance              31\n",
       "                           ..\n",
       "Horror,Mystery,Sci-Fi       1\n",
       "Comedy,Family,Musical       1\n",
       "Drama,Romance,War           1\n",
       "Adventure,Drama,Horror      1\n",
       "Action,Comedy,Sci-Fi        1\n",
       "Name: Genre, Length: 207, dtype: int64"
      ]
     },
     "execution_count": 124,
     "metadata": {},
     "output_type": "execute_result"
    }
   ],
   "source": [
    "# using the .value_counts() method, explore the number of each genre type in the series\n",
    "# assign the result to a variable called genre_counts\n",
    "genre_counts = genre.value_counts()\n",
    "genre_counts"
   ]
  },
  {
   "cell_type": "code",
   "execution_count": 125,
   "id": "4adcdd70",
   "metadata": {},
   "outputs": [
    {
     "data": {
      "text/plain": [
       "Action,Adventure,Sci-Fi    0.050\n",
       "Drama                      0.048\n",
       "Comedy,Drama,Romance       0.035\n",
       "Comedy                     0.032\n",
       "Drama,Romance              0.031\n",
       "                           ...  \n",
       "Horror,Mystery,Sci-Fi      0.001\n",
       "Comedy,Family,Musical      0.001\n",
       "Drama,Romance,War          0.001\n",
       "Adventure,Drama,Horror     0.001\n",
       "Action,Comedy,Sci-Fi       0.001\n",
       "Name: Genre, Length: 207, dtype: float64"
      ]
     },
     "execution_count": 125,
     "metadata": {},
     "output_type": "execute_result"
    }
   ],
   "source": [
    "# Find the proportions of each genre by dividing your variable assigned above by the sum of \n",
    "# all of the unique genre values\n",
    "# assign this to the variable genre_proportions\n",
    "genre_proportions = genre_counts/genre_counts.sum()\n",
    "genre_proportions"
   ]
  },
  {
   "cell_type": "code",
   "execution_count": 126,
   "id": "dd24f821",
   "metadata": {},
   "outputs": [
    {
     "data": {
      "text/plain": [
       "0"
      ]
     },
     "execution_count": 126,
     "metadata": {},
     "output_type": "execute_result"
    }
   ],
   "source": [
    "# the length of results a above is too long to know if there are any null values present\n",
    "# we can run .isna() on the series and collect the sum to check if there are missing values\n",
    "# uncomment the line below to see the results\n",
    "(data['Genre'].isna().sum())\n"
   ]
  },
  {
   "cell_type": "code",
   "execution_count": 127,
   "id": "77904b7c",
   "metadata": {},
   "outputs": [
    {
     "data": {
      "text/plain": [
       "Action,Adventure,Sci-Fi    0.050\n",
       "Drama                      0.048\n",
       "Comedy,Drama,Romance       0.035\n",
       "Comedy                     0.032\n",
       "Drama,Romance              0.031\n",
       "Name: Genre, dtype: float64"
      ]
     },
     "execution_count": 127,
     "metadata": {},
     "output_type": "execute_result"
    }
   ],
   "source": [
    "# use .head() on genre_proportions to get a better look at the top 20 \n",
    "# remember: .head() can take a parameter to display more than 5 entries \n",
    "genre_proportions.head()"
   ]
  },
  {
   "cell_type": "markdown",
   "id": "9fd9e484",
   "metadata": {},
   "source": [
    "### 2. Find the minimum, maximum, average, and standard deviation of revenue data."
   ]
  },
  {
   "cell_type": "code",
   "execution_count": 128,
   "id": "7042dfa6",
   "metadata": {},
   "outputs": [
    {
     "data": {
      "text/plain": [
       "count    872.000000\n",
       "mean      82.956376\n",
       "std      103.253540\n",
       "min        0.000000\n",
       "25%       13.270000\n",
       "50%       47.985000\n",
       "75%      113.715000\n",
       "max      936.630000\n",
       "Name: Revenue (Millions), dtype: float64"
      ]
     },
     "execution_count": 128,
     "metadata": {},
     "output_type": "execute_result"
    }
   ],
   "source": [
    "# use .describe() on the revenue column to see some summary statistics of the revenue data present\n",
    "revenue = data['Revenue (Millions)']\n",
    "revenue.describe()\n",
    "#revenue.isna()"
   ]
  },
  {
   "cell_type": "markdown",
   "id": "de436940",
   "metadata": {},
   "source": [
    "Do we have any missing revenue entries?\n",
    "Add a new code cell below this and use ``.isna()`` on the column to check.\n",
    "Ask yourself: does this affect the results of ``.describe()``?\n",
    "Hint: look at the count result above and compare that with the ``Length`` returned with ``.isna()``"
   ]
  },
  {
   "cell_type": "markdown",
   "id": "d50f3ba9",
   "metadata": {},
   "source": [
    "### 3. Make a plot distribution of the revenue data.\n"
   ]
  },
  {
   "cell_type": "code",
   "execution_count": 129,
   "id": "fd50cc47",
   "metadata": {},
   "outputs": [
    {
     "data": {
      "text/plain": [
       "<AxesSubplot:xlabel='Revenue (Millions)', ylabel='Count'>"
      ]
     },
     "execution_count": 129,
     "metadata": {},
     "output_type": "execute_result"
    },
    {
     "data": {
      "image/png": "[encoded data removed]",
      "text/plain": [
       "<Figure size 432x288 with 1 Axes>"
      ]
     },
     "metadata": {
      "needs_background": "light"
     },
     "output_type": "display_data"
    }
   ],
   "source": [
    "# use sns.histplot to get a birds eye view of the revenue distribution\n",
    "# Note: the refernce article plots Cholesterol data with ``distplot`` but we recieve \n",
    "# a deprecation warning so we've switched it with ``histplot``. The resulting graph is \n",
    "# virtually the same.\n",
    "sns.histplot(revenue.dropna())"
   ]
  },
  {
   "cell_type": "markdown",
   "id": "8afe2aaf",
   "metadata": {},
   "source": [
    "Look back at your ``.describe()`` results above. Does this plotted distribution match the results of the 25%, 50%, and 75% percentile data?\n",
    "\n",
    "Create another code cell below this and make another histplot but with only the top 20 items in the revenue column. Run ``.describe()`` on the top 20 to again check the percentile distributions with what the graph displays."
   ]
  },
  {
   "cell_type": "markdown",
   "id": "7d8595c5",
   "metadata": {},
   "source": [
    "### 4. Find the % of movies with a higher than avergage Rating"
   ]
  },
  {
   "cell_type": "code",
   "execution_count": 135,
   "id": "66b6460d",
   "metadata": {},
   "outputs": [
    {
     "data": {
      "text/plain": [
       "6.723200000000003"
      ]
     },
     "execution_count": 135,
     "metadata": {},
     "output_type": "execute_result"
    }
   ],
   "source": [
    "# create a variable called mean_rating.\n",
    "# assign mean_rating the result of running ``.mean()`` on the rating column.\n",
    "mean_rating = data['Rating'].mean()\n",
    "mean_rating"
   ]
  },
  {
   "cell_type": "code",
   "execution_count": 136,
   "id": "7454148e",
   "metadata": {},
   "outputs": [
    {
     "data": {
      "text/plain": [
       "0.513"
      ]
     },
     "execution_count": 136,
     "metadata": {},
     "output_type": "execute_result"
    }
   ],
   "source": [
    "# Find the dataset where a movie's rating is higher than mean_rating. \n",
    "# Divide that by the length of the total dataset.\n",
    "len(data[data['Rating']> mean_rating])/len(data)"
   ]
  },
  {
   "cell_type": "markdown",
   "id": "1c623861",
   "metadata": {},
   "source": [
    "### 5. Plot the rating data against genre to observe the difference in score in different movie types"
   ]
  },
  {
   "cell_type": "code",
   "execution_count": 137,
   "id": "fce70293",
   "metadata": {},
   "outputs": [
    {
     "data": {
      "text/plain": [
       "count    1000.000000\n",
       "mean        6.723200\n",
       "std         0.945429\n",
       "min         1.900000\n",
       "25%         6.200000\n",
       "50%         6.800000\n",
       "75%         7.400000\n",
       "max         9.000000\n",
       "Name: Rating, dtype: float64"
      ]
     },
     "execution_count": 137,
     "metadata": {},
     "output_type": "execute_result"
    }
   ],
   "source": [
    "# run describe on the rating column\n",
    "data['Rating'].describe()"
   ]
  },
  {
   "cell_type": "code",
   "execution_count": 138,
   "id": "212c395b",
   "metadata": {},
   "outputs": [
    {
     "data": {
      "text/plain": [
       "<AxesSubplot:xlabel='Genre_cut', ylabel='Rating'>"
      ]
     },
     "execution_count": 138,
     "metadata": {},
     "output_type": "execute_result"
    },
    {
     "data": {
      "image/png": "[encoded data removed]",
      "text/plain": [
       "<Figure size 360x360 with 1 Axes>"
      ]
     },
     "metadata": {
      "needs_background": "light"
     },
     "output_type": "display_data"
    }
   ],
   "source": [
    "# Plot the rating data against genres\n",
    "# First, lets mirror what our reference article plots\n",
    "data['Genre_cut']=pd.cut(data.Rating,[1,3,5,7,9,30])\n",
    "\n",
    "\n",
    "plt.figure(figsize=(5,5))\n",
    "sns.boxplot(x = \"Genre_cut\", y = \"Rating\", data=data)\n",
    "#sns.scatterplot(x = \"Genre\", y = \"Rating\", data=data)"
   ]
  },
  {
   "cell_type": "markdown",
   "id": "ed28d392",
   "metadata": {},
   "source": [
    "That graph isn't very helpful! \n",
    "Create a new code cell below this and create the same plot, but this time for data used,\n",
    "use only the first 20 entries.\n",
    "Do you find that any easier to read and interpret?\n",
    "Next, create one more cell. Use the same axes and the top 20 items in the data, but plot using ``sns.scatterplot()``. Do you learn anything different between the boxplot and the scatterplot?"
   ]
  },
  {
   "cell_type": "markdown",
   "id": "0bb688aa",
   "metadata": {},
   "source": [
    "### 6. Make a chart to show the number of films in each rating group each year"
   ]
  },
  {
   "cell_type": "code",
   "execution_count": 139,
   "id": "50a75081",
   "metadata": {},
   "outputs": [
    {
     "data": {
      "text/plain": [
       "<AxesSubplot:xlabel='rating_group', ylabel='Year'>"
      ]
     },
     "execution_count": 139,
     "metadata": {},
     "output_type": "execute_result"
    },
    {
     "data": {
      "image/png": "[encoded data removed]",
      "text/plain": [
       "<Figure size 432x288 with 1 Axes>"
      ]
     },
     "metadata": {
      "needs_background": "light"
     },
     "output_type": "display_data"
    }
   ],
   "source": [
    "# Create a new column called rating_group\n",
    "# Use to pd.cut() to bin(group) the rating_group column values by integer intervals 1-10\n",
    "# First, lets mirror what our reference article plots\n",
    "data['rating_group']=pd.cut(data.Rating,[1,2,3,4,5,6,7,8,9,10])\n",
    "sns.boxplot(x = \"rating_group\", y = \"Year\", data = data)\n"
   ]
  },
  {
   "cell_type": "code",
   "execution_count": 153,
   "id": "e21526ed",
   "metadata": {},
   "outputs": [
    {
     "data": {
      "text/plain": [
       "<AxesSubplot:xlabel='Year', ylabel='rating_group'>"
      ]
     },
     "execution_count": 153,
     "metadata": {},
     "output_type": "execute_result"
    },
    {
     "data": {
      "image/png": "[encoded data removed]",
      "text/plain": [
       "<Figure size 432x288 with 1 Axes>"
      ]
     },
     "metadata": {
      "needs_background": "light"
     },
     "output_type": "display_data"
    }
   ],
   "source": [
    "# Make a chart to show the number of films in each rating group per year\n",
    "sns.boxplot(x =\"Year\", y = 'rating_group', data = data)\n"
   ]
  },
  {
   "cell_type": "markdown",
   "id": "f083278f",
   "metadata": {},
   "source": [
    "Each year, which rating range(s) is the most concentrated? Does this match your results from the box and scatter plots above?"
   ]
  },
  {
   "cell_type": "code",
   "execution_count": null,
   "id": "dc17b8e9",
   "metadata": {},
   "outputs": [],
   "source": []
  },
  {
   "cell_type": "code",
   "execution_count": null,
   "id": "8d44281f",
   "metadata": {},
   "outputs": [],
   "source": []
  },
  {
   "cell_type": "code",
   "execution_count": null,
   "id": "c491e1d6",
   "metadata": {},
   "outputs": [],
   "source": []
  },
  {
   "cell_type": "code",
   "execution_count": null,
   "id": "3d6f9775",
   "metadata": {},
   "outputs": [],
   "source": []
  }
 ],
 "metadata": {
  "kernelspec": {
   "display_name": "Python 3",
   "language": "python",
   "name": "python3"
  },
  "language_info": {
   "codemirror_mode": {
    "name": "ipython",
    "version": 3
   },
   "file_extension": ".py",
   "mimetype": "text/x-python",
   "name": "python",
   "nbconvert_exporter": "python",
   "pygments_lexer": "ipython3",
   "version": "3.8.8"
  }
 },
 "nbformat": 4,
 "nbformat_minor": 5
}
